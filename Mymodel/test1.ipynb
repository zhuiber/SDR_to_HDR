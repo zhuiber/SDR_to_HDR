{
 "cells": [
  {
   "cell_type": "code",
   "execution_count": 11,
   "id": "95d79306",
   "metadata": {},
   "outputs": [
    {
     "name": "stderr",
     "output_type": "stream",
     "text": [
      "Clipping input data to the valid range for imshow with RGB data ([0..1] for floats or [0..255] for integers). Got range [15896..34242].\n"
     ]
    },
    {
     "name": "stdout",
     "output_type": "stream",
     "text": [
      "Image shape: (2160, 3840, 3)\n",
      "Image dtype: uint16\n",
      "Image min value: 15896\n",
      "Image max value: 34242\n",
      "[[[16798 16798 16798]\n",
      "  [20690 20690 20690]\n",
      "  [21962 21962 21962]\n",
      "  ...\n",
      "  [21857 21857 21857]\n",
      "  [20575 20575 20575]\n",
      "  [16416 16416 16416]]\n",
      "\n",
      " [[20511 20511 20511]\n",
      "  [27013 27013 27013]\n",
      "  [29277 29277 29277]\n",
      "  ...\n",
      "  [29018 29018 29018]\n",
      "  [27087 27087 27087]\n",
      "  [20779 20779 20779]]\n",
      "\n",
      " [[21464 21464 21464]\n",
      "  [28682 28682 28682]\n",
      "  [31299 31299 31299]\n",
      "  ...\n",
      "  [30899 30899 30899]\n",
      "  [28850 28850 28850]\n",
      "  [21956 21956 21956]]\n",
      "\n",
      " ...\n",
      "\n",
      " [[21325 21325 21325]\n",
      "  [28503 28503 28503]\n",
      "  [31142 31142 31142]\n",
      "  ...\n",
      "  [30959 30959 30959]\n",
      "  [28752 28752 28752]\n",
      "  [21785 21785 21785]]\n",
      "\n",
      " [[19944 19944 19944]\n",
      "  [26433 26433 26433]\n",
      "  [28835 28835 28835]\n",
      "  ...\n",
      "  [28663 28663 28663]\n",
      "  [26728 26728 26728]\n",
      "  [20587 20587 20587]]\n",
      "\n",
      " [[15896 15896 15896]\n",
      "  [20066 20066 20066]\n",
      "  [21732 21732 21732]\n",
      "  ...\n",
      "  [21604 21604 21604]\n",
      "  [20447 20447 20447]\n",
      "  [16657 16657 16657]]]\n"
     ]
    },
    {
     "data": {
      "image/png": "[encoded data removed]",
      "text/plain": [
       "<Figure size 640x480 with 1 Axes>"
      ]
     },
     "metadata": {},
     "output_type": "display_data"
    }
   ],
   "source": [
    "# 显示output_hdr.png\n",
    "import cv2\n",
    "import matplotlib.pyplot as plt\n",
    "\n",
    "# 读取图像\n",
    "image = cv2.imread('output_hdr.png', cv2.IMREAD_ANYDEPTH | cv2.IMREAD_COLOR)\n",
    "\n",
    "print(\"Image shape:\", image.shape)\n",
    "print(\"Image dtype:\", image.dtype)\n",
    "print(\"Image min value:\", image.min())\n",
    "print(\"Image max value:\", image.max())\n",
    "print(image)\n",
    "plt.imshow(cv2.cvtColor(image, cv2.COLOR_BGR2RGB))\n",
    "plt.axis('off')  # 不显示坐标轴\n",
    "plt.show()  # 显示图像\n",
    "\n"
   ]
  }
 ],
 "metadata": {
  "kernelspec": {
   "display_name": "base",
   "language": "python",
   "name": "python3"
  },
  "language_info": {
   "codemirror_mode": {
    "name": "ipython",
    "version": 3
   },
   "file_extension": ".py",
   "mimetype": "text/x-python",
   "name": "python",
   "nbconvert_exporter": "python",
   "pygments_lexer": "ipython3",
   "version": "3.12.3"
  }
 },
 "nbformat": 4,
 "nbformat_minor": 5
}
